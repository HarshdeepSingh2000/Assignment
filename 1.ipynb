{
 "cells": [
  {
   "cell_type": "code",
   "execution_count": 1,
   "id": "c1737feb",
   "metadata": {},
   "outputs": [
    {
     "name": "stdout",
     "output_type": "stream",
     "text": [
      "THis is chink kike: 2\n"
     ]
    }
   ],
   "source": [
    "import re\n",
    "\n",
    "\n",
    "def profanity_degree(tweet, racial_slurs):\n",
    "    \"\"\"\n",
    "    Given a tweet and a set of racial slurs, returns the degree of profanity of the tweet.\n",
    "    The degree of profanity is defined as the number of racial slurs found in the tweet.\n",
    "    \"\"\"\n",
    "    tweet = tweet.lower()  # convert to lowercase for case-insensitive matching\n",
    "    count = 0\n",
    "    for slur in racial_slurs:\n",
    "        count += len(re.findall(slur, tweet))\n",
    "    return count\n",
    "\n",
    "\n",
    "def main():\n",
    "    # assume the tweets are in a file called \"tweets.txt\"\n",
    "    with open(\"tweet.txt\", \"r\") as f:\n",
    "        tweets = f.readlines()\n",
    "\n",
    "    # assume the racial slurs are in a set called \"racial_slurs\"\n",
    "    racial_slurs = {\"nigger\", \"chink\", \"spic\", \"wop\", \"kike\"}\n",
    "\n",
    "    # compute the profanity degree for each tweet and print it\n",
    "    for tweet in tweets:\n",
    "        degree = profanity_degree(tweet, racial_slurs)\n",
    "        print(f\"{tweet.strip()}: {degree}\")\n",
    "\n",
    "\n",
    "if __name__ == \"__main__\":\n",
    "    main()\n",
    "    "
   ]
  },
  {
   "cell_type": "code",
   "execution_count": null,
   "id": "a785c8b7",
   "metadata": {},
   "outputs": [],
   "source": []
  }
 ],
 "metadata": {
  "kernelspec": {
   "display_name": "Python 3 (ipykernel)",
   "language": "python",
   "name": "python3"
  },
  "language_info": {
   "codemirror_mode": {
    "name": "ipython",
    "version": 3
   },
   "file_extension": ".py",
   "mimetype": "text/x-python",
   "name": "python",
   "nbconvert_exporter": "python",
   "pygments_lexer": "ipython3",
   "version": "3.11.2"
  }
 },
 "nbformat": 4,
 "nbformat_minor": 5
}
